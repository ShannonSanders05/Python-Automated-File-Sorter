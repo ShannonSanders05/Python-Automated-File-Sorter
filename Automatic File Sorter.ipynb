{
 "cells": [
  {
   "cell_type": "markdown",
   "id": "8252a637",
   "metadata": {},
   "source": [
    "# Automatic File Sorter in File Explorer"
   ]
  },
  {
   "cell_type": "code",
   "execution_count": 24,
   "id": "b720fdec",
   "metadata": {},
   "outputs": [],
   "source": [
    "import os, shutil"
   ]
  },
  {
   "cell_type": "code",
   "execution_count": 25,
   "id": "ec6f50c3",
   "metadata": {},
   "outputs": [],
   "source": [
    "path = r\"C:/Users/User/Documents/File Sorter/\""
   ]
  },
  {
   "cell_type": "code",
   "execution_count": 26,
   "id": "8a352a39",
   "metadata": {},
   "outputs": [],
   "source": [
    "file_name = os.listdir(path)"
   ]
  },
  {
   "cell_type": "code",
   "execution_count": 28,
   "id": "5b076911",
   "metadata": {},
   "outputs": [],
   "source": [
    "folder_names = ['JPG Files','CSV Files','PNG Files','MP3 Files',\"PDF Files\",\"MP4 Files\"]\n",
    "\n",
    "for folder in range (0,6):\n",
    "    if not os.path.exists(path + folder_names[folder]):\n",
    "        os.makedirs(path + folder_names[folder])"
   ]
  },
  {
   "cell_type": "code",
   "execution_count": 31,
   "id": "8ae892fc",
   "metadata": {},
   "outputs": [],
   "source": [
    "for file in file_name:\n",
    "    if \".jpg\" in file and not os.path.exists(path + \"JPG Files/\" + file):\n",
    "        shutil.move(path + file,path + \"JPG Files/\" + file)\n",
    "    if \".csv\" in file and not os.path.exists(path + \"CSV Files/\" + file):\n",
    "        shutil.move(path + file,path + \"CSV Files/\" + file)\n",
    "    if \".png\" in file and not os.path.exists(path + \"PNG Files/\" + file):\n",
    "        shutil.move(path + file,path + \"PNG Files/\" + file)\n",
    "    if \".mp3\" in file and not os.path.exists(path + \"MP3 Files/\" + file):\n",
    "        shutil.move(path + file,path + \"MP3 Files/\" + file)\n",
    "    if \".pdf\" in file and not os.path.exists(path + \"PDF Files/\" + file):\n",
    "        shutil.move(path + file,path + \"PDF Files/\" + file)\n",
    "    if \".mp4\" in file and not os.path.exists(path + \"MP4 Files/\" + file):\n",
    "        shutil.move(path + file,path + \"MP4 Files/\" + file)"
   ]
  },
  {
   "cell_type": "code",
   "execution_count": null,
   "id": "72e389ec",
   "metadata": {},
   "outputs": [],
   "source": []
  }
 ],
 "metadata": {
  "kernelspec": {
   "display_name": "Python 3 (ipykernel)",
   "language": "python",
   "name": "python3"
  },
  "language_info": {
   "codemirror_mode": {
    "name": "ipython",
    "version": 3
   },
   "file_extension": ".py",
   "mimetype": "text/x-python",
   "name": "python",
   "nbconvert_exporter": "python",
   "pygments_lexer": "ipython3",
   "version": "3.11.5"
  }
 },
 "nbformat": 4,
 "nbformat_minor": 5
}
